{
 "cells": [
  {
   "cell_type": "markdown",
   "metadata": {
    "collapsed": true
   },
   "source": [
    "<img src=\"./images/output-0.png\" />"
   ]
  },
  {
   "cell_type": "markdown",
   "metadata": {},
   "source": [
    "<img src=\"./images/output-1.png\" />"
   ]
  },
  {
   "cell_type": "markdown",
   "metadata": {},
   "source": [
    "<img src=\"./images/output-2.png\" />"
   ]
  },
  {
   "cell_type": "markdown",
   "metadata": {},
   "source": [
    "<img src=\"./images/output-4.png\" />"
   ]
  },
  {
   "cell_type": "markdown",
   "metadata": {},
   "source": [
    "<img src=\"./images/output-5.png\" />"
   ]
  },
  {
   "cell_type": "markdown",
   "metadata": {},
   "source": [
    "<img src=\"./images/output-6.png\" />"
   ]
  },
  {
   "cell_type": "markdown",
   "metadata": {},
   "source": [
    "<img src=\"./images/output-7.png\" />"
   ]
  },
  {
   "cell_type": "markdown",
   "metadata": {},
   "source": [
    "<img src=\"./images/output-8.png\" />"
   ]
  },
  {
   "cell_type": "markdown",
   "metadata": {},
   "source": [
    "<img src=\"./images/output-9.png\" />"
   ]
  },
  {
   "cell_type": "markdown",
   "metadata": {},
   "source": [
    "<img src=\"./images/output-10.png\" />"
   ]
  },
  {
   "cell_type": "markdown",
   "metadata": {},
   "source": [
    "<img src=\"./images/output-11.png\" />"
   ]
  },
  {
   "cell_type": "markdown",
   "metadata": {},
   "source": [
    "<img src=\"./images/output-12.png\" />"
   ]
  },
  {
   "cell_type": "markdown",
   "metadata": {},
   "source": [
    "<img src=\"./images/output-13.png\" />"
   ]
  },
  {
   "cell_type": "code",
   "execution_count": 1,
   "metadata": {
    "collapsed": true
   },
   "outputs": [],
   "source": [
    "# Example One, getting frames off a webcam.\n",
    "# basic_webcam.py\n",
    "import numpy as np\n",
    "import cv2\n",
    "\n",
    "cap = cv2.VideoCapture(0)\n",
    "\n",
    "while(True):\n",
    "    ret, frame = cap.read()\n",
    "    cv2.imshow('Basic Web Cam',frame)\n",
    "    if cv2.waitKey(1) & 0xFF == ord('q'):\n",
    "        break\n",
    "\n",
    "cap.release()\n",
    "cv2.destroyAllWindows()"
   ]
  },
  {
   "cell_type": "code",
   "execution_count": 3,
   "metadata": {
    "collapsed": false,
    "scrolled": true
   },
   "outputs": [
    {
     "name": "stdout",
     "output_type": "stream",
     "text": [
      "hue         \t:0.5         \n",
      "saturation  \t:0.10000000149\n",
      "format      \t:None        \n",
      "brightness  \t:0.6171875   \n",
      "pos_frame   \t:None        \n",
      "convert_rgb \t:None        \n",
      "rectification\t:None        \n",
      "height      \t:480.0       \n",
      "contrast    \t:0.315789461136\n",
      "width       \t:640.0       \n",
      "pos_msec    \t:None        \n",
      "fps         \t:None        \n",
      "fourcc      \t:None        \n",
      "mode        \t:None        \n",
      "avi_ratio   \t:None        \n",
      "frame_count \t:None        \n",
      "gain        \t:None        \n",
      "exposure    \t:None        \n"
     ]
    },
    {
     "ename": "KeyboardInterrupt",
     "evalue": "",
     "output_type": "error",
     "traceback": [
      "\u001b[1;31m---------------------------------------------------------------------------\u001b[0m",
      "\u001b[1;31mKeyboardInterrupt\u001b[0m                         Traceback (most recent call last)",
      "\u001b[1;32m<ipython-input-3-8cf814e373fb>\u001b[0m in \u001b[0;36m<module>\u001b[1;34m()\u001b[0m\n\u001b[0;32m     61\u001b[0m     \u001b[1;32melse\u001b[0m\u001b[1;33m:\u001b[0m\u001b[1;33m\u001b[0m\u001b[0m\n\u001b[0;32m     62\u001b[0m         \u001b[0mset_prop\u001b[0m\u001b[1;33m(\u001b[0m\u001b[0mcam\u001b[0m\u001b[1;33m,\u001b[0m\u001b[1;34m\"saturation\"\u001b[0m\u001b[1;33m,\u001b[0m\u001b[0mprop_map\u001b[0m\u001b[1;33m,\u001b[0m\u001b[1;36m1.0\u001b[0m\u001b[1;33m)\u001b[0m\u001b[1;33m\u001b[0m\u001b[0m\n\u001b[1;32m---> 63\u001b[1;33m     \u001b[0mtime\u001b[0m\u001b[1;33m.\u001b[0m\u001b[0msleep\u001b[0m\u001b[1;33m(\u001b[0m\u001b[1;36m0.05\u001b[0m\u001b[1;33m)\u001b[0m\u001b[1;33m\u001b[0m\u001b[0m\n\u001b[0m\u001b[0;32m     64\u001b[0m     \u001b[0mret\u001b[0m\u001b[1;33m,\u001b[0m \u001b[0mframe\u001b[0m \u001b[1;33m=\u001b[0m \u001b[0mcam\u001b[0m\u001b[1;33m.\u001b[0m\u001b[0mread\u001b[0m\u001b[1;33m(\u001b[0m\u001b[1;33m)\u001b[0m\u001b[1;33m\u001b[0m\u001b[0m\n\u001b[0;32m     65\u001b[0m     \u001b[0mcv2\u001b[0m\u001b[1;33m.\u001b[0m\u001b[0mimshow\u001b[0m\u001b[1;33m(\u001b[0m\u001b[1;34m'Basic Web Cam'\u001b[0m\u001b[1;33m,\u001b[0m\u001b[0mframe\u001b[0m\u001b[1;33m)\u001b[0m\u001b[1;33m\u001b[0m\u001b[0m\n",
      "\u001b[1;31mKeyboardInterrupt\u001b[0m: "
     ]
    }
   ],
   "source": [
    "# Example two, advance camera properties. \n",
    "import numpy as np\n",
    "import cv2\n",
    "import time\n",
    "\n",
    "pass \n",
    "# create a map to keep track of all these names\n",
    "prop_map = {\n",
    "    \"pos_msec\":cv2.cv.CV_CAP_PROP_POS_MSEC,\n",
    "    \"pos_frame\":cv2.cv.CV_CAP_PROP_POS_FRAMES,\n",
    "    \"avi_ratio\":cv2.cv.CV_CAP_PROP_POS_AVI_RATIO ,\n",
    "    \"width\":cv2.cv.CV_CAP_PROP_FRAME_WIDTH ,\n",
    "    \"height\":cv2.cv.CV_CAP_PROP_FRAME_HEIGHT ,\n",
    "    \"fps\":cv2.cv.CV_CAP_PROP_FPS ,\n",
    "    \"fourcc\":cv2.cv.CV_CAP_PROP_FOURCC ,\n",
    "    \"frame_count\":cv2.cv.CV_CAP_PROP_FRAME_COUNT,\n",
    "    \"format\":cv2.cv.CV_CAP_PROP_FORMAT ,\n",
    "    \"mode\":cv2.cv.CV_CAP_PROP_MODE ,\n",
    "    \"brightness\":cv2.cv.CV_CAP_PROP_BRIGHTNESS ,\n",
    "    \"contrast\":cv2.cv.CV_CAP_PROP_CONTRAST ,\n",
    "    \"saturation\":cv2.cv.CV_CAP_PROP_SATURATION,\n",
    "    \"hue\":cv2.cv.CV_CAP_PROP_HUE ,\n",
    "    \"gain\":cv2.cv.CV_CAP_PROP_GAIN ,\n",
    "    \"exposure\":cv2.cv.CV_CAP_PROP_EXPOSURE ,\n",
    "    \"convert_rgb\":cv2.cv.CV_CAP_PROP_CONVERT_RGB ,\n",
    " #   \"white_balance\":cv2.cv.CV_CAP_PROP_WHITE_BALANCE ,\n",
    "    \"rectification\":cv2.cv.CV_CAP_PROP_RECTIFICATION}\n",
    "\n",
    "# get a camera property\n",
    "def get_prop(cam,name,prop_map):\n",
    "    return cam.get(prop_map[name])\n",
    "\n",
    "# set a camera property\n",
    "def set_prop(cam,name,prop_map,value):\n",
    "    cam.set(prop_map[name],value)\n",
    "\n",
    "# print out all of the properites\n",
    "def poll_props(cam,prop_map):\n",
    "    out_map = {}\n",
    "    for k,v in prop_map.items():\n",
    "        result = cam.get(v)\n",
    "        if( result == -1.0 ):\n",
    "            out_map[k] = None\n",
    "        else:\n",
    "            out_map[k] = result\n",
    "    return out_map\n",
    "\n",
    "# create a camera and get its property\n",
    "cam = cv2.VideoCapture(0)\n",
    "properties = poll_props(cam,prop_map)\n",
    "\n",
    "# list our properties\n",
    "for k,v in properties.items():\n",
    "    print \"{0:<12}\\t:{1:<12}\".format(k,v)\n",
    "\n",
    "while(True):\n",
    "    # toggle properties and get results. \n",
    "    sat = get_prop(cam,\"saturation\",prop_map)\n",
    "    if( sat > 0.5 ):\n",
    "        set_prop(cam,\"saturation\",prop_map,0.1)\n",
    "    else:\n",
    "        set_prop(cam,\"saturation\",prop_map,1.0)\n",
    "    time.sleep(0.05)\n",
    "    ret, frame = cam.read()\n",
    "    cv2.imshow('Basic Web Cam',frame)\n",
    "    if cv2.waitKey(1) & 0xFF == ord('q'):\n",
    "        break\n",
    "\n",
    "# put our toys back on the shelf \n",
    "cam.release()\n",
    "cv2.destroyAllWindows()"
   ]
  },
  {
   "cell_type": "markdown",
   "metadata": {},
   "source": [
    "<h1 align=center> Go Pro Cameras</h1>\n",
    "<img src=\"/files/images/gopro.jpg\" align=center>\n",
    "<h2>\n",
    "<ul align=left>\n",
    "<li>All GoPro Cameras through 3+ use a similar interface.</li>\n",
    "<br>\n",
    "<li>Each camera acts as a wifi access point with a simple web server.</li>\n",
    "<br>\n",
    "<li>We can hack this interface for nefarious purposes.</li>\n",
    "<br>\n",
    "<li>Default path is http://10.5.5.9:8080/</li>\n",
    "<br>\n",
    "<li><a href=\"http://goprohero.readthedocs.org/en/latest/\">GoProHero</a> is a nice library wrapping a lot of commands.</li>\n",
    "</h2>\n",
    "</ul>\n",
    "\n"
   ]
  },
  {
   "cell_type": "markdown",
   "metadata": {},
   "source": [
    "<h1 align=center>Some Specifics on GoPros</h1>\n",
    "<img src=\"/files/images/gopro_screen.png\" align=center>\n",
    "<h2>\n",
    "<ul align=left>\n",
    "<li>Interface is hitting specific routes with parameters.</li>\n",
    "<br>\n",
    "<li>Images and video are collected using urllib and beautiful soup.</li>\n",
    "<br>\n",
    "<li>Naming conventions are a little convoluted -- need some helper code.</li>\n",
    "<br>\n",
    "<li>Control over resolutions and frame rates. Gain and exposure not so much.</li>\n",
    "<br>\n",
    "<li>Live streaming is a bit wonky.</li>\n",
    "</h2>\n",
    "</ul>"
   ]
  },
  {
   "cell_type": "code",
   "execution_count": 1,
   "metadata": {
    "collapsed": false
   },
   "outputs": [],
   "source": [
    "from goprohero import GoProHero # helper lib\n",
    "import urllib # used to \"wget\" files\n",
    "import bs4 # beautiful soup, to parse file\n",
    "import time\n",
    "from IPython.display import Image\n",
    "\n",
    "def download_and_save(name,route=\"http://10.5.5.9:8080/videos/DCIM/100GOPRO/\"):\n",
    "    \"\"\"\n",
    "    Download a specific file on a connected GoPro camera.\n",
    "    \"\"\"\n",
    "    grab = route+name\n",
    "    result = urllib.urlopen(grab) # basically wget\n",
    "    if( result.code == 200 ): # 200 means OK\n",
    "        with open(name,'wb') as fp: \n",
    "            fp.write(result.read()) # write to file\n",
    "    result.close()\n",
    "\n",
    "def get_new(last=[],url=\"http://10.5.5.9:8080/videos/DCIM/100GOPRO/\"):\n",
    "    \"\"\"\n",
    "    Find files recently added to our go pro. Requires a list of files\n",
    "    \"\"\"\n",
    "    unique = None\n",
    "    last = set(last)\n",
    "    out = urllib.urlopen(url)\n",
    "    if(out.code == 200):\n",
    "        soup = bs4.BeautifulSoup(out.read()) # read the file tree\n",
    "        # make a set of all <a href> in the tree\n",
    "        fresh = set([row.renderContents() for row in soup.findAll('a')]) \n",
    "        # do a set difference with our initial set\n",
    "        unique = list(fresh.difference(last))\n",
    "    return unique\n",
    "\n"
   ]
  },
  {
   "cell_type": "code",
   "execution_count": 5,
   "metadata": {
    "collapsed": false
   },
   "outputs": [
    {
     "ename": "KeyboardInterrupt",
     "evalue": "",
     "output_type": "error",
     "traceback": [
      "\u001b[1;31m---------------------------------------------------------------------------\u001b[0m",
      "\u001b[1;31mKeyboardInterrupt\u001b[0m                         Traceback (most recent call last)",
      "\u001b[1;32m<ipython-input-5-816fa52483e5>\u001b[0m in \u001b[0;36m<module>\u001b[1;34m()\u001b[0m\n\u001b[0;32m      1\u001b[0m \u001b[1;31m# check the camera file system\u001b[0m\u001b[1;33m\u001b[0m\u001b[1;33m\u001b[0m\u001b[0m\n\u001b[1;32m----> 2\u001b[1;33m \u001b[0mout\u001b[0m \u001b[1;33m=\u001b[0m \u001b[0mget_new\u001b[0m\u001b[1;33m(\u001b[0m\u001b[1;33m)\u001b[0m\u001b[1;33m\u001b[0m\u001b[0m\n\u001b[0m\u001b[0;32m      3\u001b[0m \u001b[1;31m# setup our controller\u001b[0m\u001b[1;33m\u001b[0m\u001b[1;33m\u001b[0m\u001b[0m\n\u001b[0;32m      4\u001b[0m \u001b[0mcam\u001b[0m \u001b[1;33m=\u001b[0m \u001b[0mGoProHero\u001b[0m\u001b[1;33m(\u001b[0m\u001b[0mpassword\u001b[0m\u001b[1;33m=\u001b[0m\u001b[1;34m\"herpderp\"\u001b[0m\u001b[1;33m)\u001b[0m\u001b[1;33m\u001b[0m\u001b[0m\n\u001b[0;32m      5\u001b[0m \u001b[1;31m# put the camera in burst mode\u001b[0m\u001b[1;33m\u001b[0m\u001b[1;33m\u001b[0m\u001b[0m\n",
      "\u001b[1;32m<ipython-input-1-a1f2cd395959>\u001b[0m in \u001b[0;36mget_new\u001b[1;34m(last, url)\u001b[0m\n\u001b[0;32m     22\u001b[0m     \u001b[0munique\u001b[0m \u001b[1;33m=\u001b[0m \u001b[0mNone\u001b[0m\u001b[1;33m\u001b[0m\u001b[0m\n\u001b[0;32m     23\u001b[0m     \u001b[0mlast\u001b[0m \u001b[1;33m=\u001b[0m \u001b[0mset\u001b[0m\u001b[1;33m(\u001b[0m\u001b[0mlast\u001b[0m\u001b[1;33m)\u001b[0m\u001b[1;33m\u001b[0m\u001b[0m\n\u001b[1;32m---> 24\u001b[1;33m     \u001b[0mout\u001b[0m \u001b[1;33m=\u001b[0m \u001b[0murllib\u001b[0m\u001b[1;33m.\u001b[0m\u001b[0murlopen\u001b[0m\u001b[1;33m(\u001b[0m\u001b[0murl\u001b[0m\u001b[1;33m)\u001b[0m\u001b[1;33m\u001b[0m\u001b[0m\n\u001b[0m\u001b[0;32m     25\u001b[0m     \u001b[1;32mif\u001b[0m\u001b[1;33m(\u001b[0m\u001b[0mout\u001b[0m\u001b[1;33m.\u001b[0m\u001b[0mcode\u001b[0m \u001b[1;33m==\u001b[0m \u001b[1;36m200\u001b[0m\u001b[1;33m)\u001b[0m\u001b[1;33m:\u001b[0m\u001b[1;33m\u001b[0m\u001b[0m\n\u001b[0;32m     26\u001b[0m         \u001b[0msoup\u001b[0m \u001b[1;33m=\u001b[0m \u001b[0mbs4\u001b[0m\u001b[1;33m.\u001b[0m\u001b[0mBeautifulSoup\u001b[0m\u001b[1;33m(\u001b[0m\u001b[0mout\u001b[0m\u001b[1;33m.\u001b[0m\u001b[0mread\u001b[0m\u001b[1;33m(\u001b[0m\u001b[1;33m)\u001b[0m\u001b[1;33m)\u001b[0m \u001b[1;31m# read the file tree\u001b[0m\u001b[1;33m\u001b[0m\u001b[0m\n",
      "\u001b[1;32m/usr/lib/python2.7/urllib.pyc\u001b[0m in \u001b[0;36murlopen\u001b[1;34m(url, data, proxies)\u001b[0m\n\u001b[0;32m     85\u001b[0m         \u001b[0mopener\u001b[0m \u001b[1;33m=\u001b[0m \u001b[0m_urlopener\u001b[0m\u001b[1;33m\u001b[0m\u001b[0m\n\u001b[0;32m     86\u001b[0m     \u001b[1;32mif\u001b[0m \u001b[0mdata\u001b[0m \u001b[1;32mis\u001b[0m \u001b[0mNone\u001b[0m\u001b[1;33m:\u001b[0m\u001b[1;33m\u001b[0m\u001b[0m\n\u001b[1;32m---> 87\u001b[1;33m         \u001b[1;32mreturn\u001b[0m \u001b[0mopener\u001b[0m\u001b[1;33m.\u001b[0m\u001b[0mopen\u001b[0m\u001b[1;33m(\u001b[0m\u001b[0murl\u001b[0m\u001b[1;33m)\u001b[0m\u001b[1;33m\u001b[0m\u001b[0m\n\u001b[0m\u001b[0;32m     88\u001b[0m     \u001b[1;32melse\u001b[0m\u001b[1;33m:\u001b[0m\u001b[1;33m\u001b[0m\u001b[0m\n\u001b[0;32m     89\u001b[0m         \u001b[1;32mreturn\u001b[0m \u001b[0mopener\u001b[0m\u001b[1;33m.\u001b[0m\u001b[0mopen\u001b[0m\u001b[1;33m(\u001b[0m\u001b[0murl\u001b[0m\u001b[1;33m,\u001b[0m \u001b[0mdata\u001b[0m\u001b[1;33m)\u001b[0m\u001b[1;33m\u001b[0m\u001b[0m\n",
      "\u001b[1;32m/usr/lib/python2.7/urllib.pyc\u001b[0m in \u001b[0;36mopen\u001b[1;34m(self, fullurl, data)\u001b[0m\n\u001b[0;32m    206\u001b[0m         \u001b[1;32mtry\u001b[0m\u001b[1;33m:\u001b[0m\u001b[1;33m\u001b[0m\u001b[0m\n\u001b[0;32m    207\u001b[0m             \u001b[1;32mif\u001b[0m \u001b[0mdata\u001b[0m \u001b[1;32mis\u001b[0m \u001b[0mNone\u001b[0m\u001b[1;33m:\u001b[0m\u001b[1;33m\u001b[0m\u001b[0m\n\u001b[1;32m--> 208\u001b[1;33m                 \u001b[1;32mreturn\u001b[0m \u001b[0mgetattr\u001b[0m\u001b[1;33m(\u001b[0m\u001b[0mself\u001b[0m\u001b[1;33m,\u001b[0m \u001b[0mname\u001b[0m\u001b[1;33m)\u001b[0m\u001b[1;33m(\u001b[0m\u001b[0murl\u001b[0m\u001b[1;33m)\u001b[0m\u001b[1;33m\u001b[0m\u001b[0m\n\u001b[0m\u001b[0;32m    209\u001b[0m             \u001b[1;32melse\u001b[0m\u001b[1;33m:\u001b[0m\u001b[1;33m\u001b[0m\u001b[0m\n\u001b[0;32m    210\u001b[0m                 \u001b[1;32mreturn\u001b[0m \u001b[0mgetattr\u001b[0m\u001b[1;33m(\u001b[0m\u001b[0mself\u001b[0m\u001b[1;33m,\u001b[0m \u001b[0mname\u001b[0m\u001b[1;33m)\u001b[0m\u001b[1;33m(\u001b[0m\u001b[0murl\u001b[0m\u001b[1;33m,\u001b[0m \u001b[0mdata\u001b[0m\u001b[1;33m)\u001b[0m\u001b[1;33m\u001b[0m\u001b[0m\n",
      "\u001b[1;32m/usr/lib/python2.7/urllib.pyc\u001b[0m in \u001b[0;36mopen_http\u001b[1;34m(self, url, data)\u001b[0m\n\u001b[0;32m    343\u001b[0m         \u001b[1;32mif\u001b[0m \u001b[0mrealhost\u001b[0m\u001b[1;33m:\u001b[0m \u001b[0mh\u001b[0m\u001b[1;33m.\u001b[0m\u001b[0mputheader\u001b[0m\u001b[1;33m(\u001b[0m\u001b[1;34m'Host'\u001b[0m\u001b[1;33m,\u001b[0m \u001b[0mrealhost\u001b[0m\u001b[1;33m)\u001b[0m\u001b[1;33m\u001b[0m\u001b[0m\n\u001b[0;32m    344\u001b[0m         \u001b[1;32mfor\u001b[0m \u001b[0margs\u001b[0m \u001b[1;32min\u001b[0m \u001b[0mself\u001b[0m\u001b[1;33m.\u001b[0m\u001b[0maddheaders\u001b[0m\u001b[1;33m:\u001b[0m \u001b[0mh\u001b[0m\u001b[1;33m.\u001b[0m\u001b[0mputheader\u001b[0m\u001b[1;33m(\u001b[0m\u001b[1;33m*\u001b[0m\u001b[0margs\u001b[0m\u001b[1;33m)\u001b[0m\u001b[1;33m\u001b[0m\u001b[0m\n\u001b[1;32m--> 345\u001b[1;33m         \u001b[0mh\u001b[0m\u001b[1;33m.\u001b[0m\u001b[0mendheaders\u001b[0m\u001b[1;33m(\u001b[0m\u001b[0mdata\u001b[0m\u001b[1;33m)\u001b[0m\u001b[1;33m\u001b[0m\u001b[0m\n\u001b[0m\u001b[0;32m    346\u001b[0m         \u001b[0merrcode\u001b[0m\u001b[1;33m,\u001b[0m \u001b[0merrmsg\u001b[0m\u001b[1;33m,\u001b[0m \u001b[0mheaders\u001b[0m \u001b[1;33m=\u001b[0m \u001b[0mh\u001b[0m\u001b[1;33m.\u001b[0m\u001b[0mgetreply\u001b[0m\u001b[1;33m(\u001b[0m\u001b[1;33m)\u001b[0m\u001b[1;33m\u001b[0m\u001b[0m\n\u001b[0;32m    347\u001b[0m         \u001b[0mfp\u001b[0m \u001b[1;33m=\u001b[0m \u001b[0mh\u001b[0m\u001b[1;33m.\u001b[0m\u001b[0mgetfile\u001b[0m\u001b[1;33m(\u001b[0m\u001b[1;33m)\u001b[0m\u001b[1;33m\u001b[0m\u001b[0m\n",
      "\u001b[1;32m/usr/lib/python2.7/httplib.pyc\u001b[0m in \u001b[0;36mendheaders\u001b[1;34m(self, message_body)\u001b[0m\n\u001b[0;32m    973\u001b[0m         \u001b[1;32melse\u001b[0m\u001b[1;33m:\u001b[0m\u001b[1;33m\u001b[0m\u001b[0m\n\u001b[0;32m    974\u001b[0m             \u001b[1;32mraise\u001b[0m \u001b[0mCannotSendHeader\u001b[0m\u001b[1;33m(\u001b[0m\u001b[1;33m)\u001b[0m\u001b[1;33m\u001b[0m\u001b[0m\n\u001b[1;32m--> 975\u001b[1;33m         \u001b[0mself\u001b[0m\u001b[1;33m.\u001b[0m\u001b[0m_send_output\u001b[0m\u001b[1;33m(\u001b[0m\u001b[0mmessage_body\u001b[0m\u001b[1;33m)\u001b[0m\u001b[1;33m\u001b[0m\u001b[0m\n\u001b[0m\u001b[0;32m    976\u001b[0m \u001b[1;33m\u001b[0m\u001b[0m\n\u001b[0;32m    977\u001b[0m     \u001b[1;32mdef\u001b[0m \u001b[0mrequest\u001b[0m\u001b[1;33m(\u001b[0m\u001b[0mself\u001b[0m\u001b[1;33m,\u001b[0m \u001b[0mmethod\u001b[0m\u001b[1;33m,\u001b[0m \u001b[0murl\u001b[0m\u001b[1;33m,\u001b[0m \u001b[0mbody\u001b[0m\u001b[1;33m=\u001b[0m\u001b[0mNone\u001b[0m\u001b[1;33m,\u001b[0m \u001b[0mheaders\u001b[0m\u001b[1;33m=\u001b[0m\u001b[1;33m{\u001b[0m\u001b[1;33m}\u001b[0m\u001b[1;33m)\u001b[0m\u001b[1;33m:\u001b[0m\u001b[1;33m\u001b[0m\u001b[0m\n",
      "\u001b[1;32m/usr/lib/python2.7/httplib.pyc\u001b[0m in \u001b[0;36m_send_output\u001b[1;34m(self, message_body)\u001b[0m\n\u001b[0;32m    833\u001b[0m             \u001b[0mmsg\u001b[0m \u001b[1;33m+=\u001b[0m \u001b[0mmessage_body\u001b[0m\u001b[1;33m\u001b[0m\u001b[0m\n\u001b[0;32m    834\u001b[0m             \u001b[0mmessage_body\u001b[0m \u001b[1;33m=\u001b[0m \u001b[0mNone\u001b[0m\u001b[1;33m\u001b[0m\u001b[0m\n\u001b[1;32m--> 835\u001b[1;33m         \u001b[0mself\u001b[0m\u001b[1;33m.\u001b[0m\u001b[0msend\u001b[0m\u001b[1;33m(\u001b[0m\u001b[0mmsg\u001b[0m\u001b[1;33m)\u001b[0m\u001b[1;33m\u001b[0m\u001b[0m\n\u001b[0m\u001b[0;32m    836\u001b[0m         \u001b[1;32mif\u001b[0m \u001b[0mmessage_body\u001b[0m \u001b[1;32mis\u001b[0m \u001b[1;32mnot\u001b[0m \u001b[0mNone\u001b[0m\u001b[1;33m:\u001b[0m\u001b[1;33m\u001b[0m\u001b[0m\n\u001b[0;32m    837\u001b[0m             \u001b[1;31m#message_body was not a string (i.e. it is a file) and\u001b[0m\u001b[1;33m\u001b[0m\u001b[1;33m\u001b[0m\u001b[0m\n",
      "\u001b[1;32m/usr/lib/python2.7/httplib.pyc\u001b[0m in \u001b[0;36msend\u001b[1;34m(self, data)\u001b[0m\n\u001b[0;32m    795\u001b[0m         \u001b[1;32mif\u001b[0m \u001b[0mself\u001b[0m\u001b[1;33m.\u001b[0m\u001b[0msock\u001b[0m \u001b[1;32mis\u001b[0m \u001b[0mNone\u001b[0m\u001b[1;33m:\u001b[0m\u001b[1;33m\u001b[0m\u001b[0m\n\u001b[0;32m    796\u001b[0m             \u001b[1;32mif\u001b[0m \u001b[0mself\u001b[0m\u001b[1;33m.\u001b[0m\u001b[0mauto_open\u001b[0m\u001b[1;33m:\u001b[0m\u001b[1;33m\u001b[0m\u001b[0m\n\u001b[1;32m--> 797\u001b[1;33m                 \u001b[0mself\u001b[0m\u001b[1;33m.\u001b[0m\u001b[0mconnect\u001b[0m\u001b[1;33m(\u001b[0m\u001b[1;33m)\u001b[0m\u001b[1;33m\u001b[0m\u001b[0m\n\u001b[0m\u001b[0;32m    798\u001b[0m             \u001b[1;32melse\u001b[0m\u001b[1;33m:\u001b[0m\u001b[1;33m\u001b[0m\u001b[0m\n\u001b[0;32m    799\u001b[0m                 \u001b[1;32mraise\u001b[0m \u001b[0mNotConnected\u001b[0m\u001b[1;33m(\u001b[0m\u001b[1;33m)\u001b[0m\u001b[1;33m\u001b[0m\u001b[0m\n",
      "\u001b[1;32m/usr/lib/python2.7/httplib.pyc\u001b[0m in \u001b[0;36mconnect\u001b[1;34m(self)\u001b[0m\n\u001b[0;32m    776\u001b[0m         \u001b[1;34m\"\"\"Connect to the host and port specified in __init__.\"\"\"\u001b[0m\u001b[1;33m\u001b[0m\u001b[0m\n\u001b[0;32m    777\u001b[0m         self.sock = socket.create_connection((self.host,self.port),\n\u001b[1;32m--> 778\u001b[1;33m                                              self.timeout, self.source_address)\n\u001b[0m\u001b[0;32m    779\u001b[0m \u001b[1;33m\u001b[0m\u001b[0m\n\u001b[0;32m    780\u001b[0m         \u001b[1;32mif\u001b[0m \u001b[0mself\u001b[0m\u001b[1;33m.\u001b[0m\u001b[0m_tunnel_host\u001b[0m\u001b[1;33m:\u001b[0m\u001b[1;33m\u001b[0m\u001b[0m\n",
      "\u001b[1;32m/usr/lib/python2.7/socket.pyc\u001b[0m in \u001b[0;36mcreate_connection\u001b[1;34m(address, timeout, source_address)\u001b[0m\n\u001b[0;32m    560\u001b[0m             \u001b[1;32mif\u001b[0m \u001b[0msource_address\u001b[0m\u001b[1;33m:\u001b[0m\u001b[1;33m\u001b[0m\u001b[0m\n\u001b[0;32m    561\u001b[0m                 \u001b[0msock\u001b[0m\u001b[1;33m.\u001b[0m\u001b[0mbind\u001b[0m\u001b[1;33m(\u001b[0m\u001b[0msource_address\u001b[0m\u001b[1;33m)\u001b[0m\u001b[1;33m\u001b[0m\u001b[0m\n\u001b[1;32m--> 562\u001b[1;33m             \u001b[0msock\u001b[0m\u001b[1;33m.\u001b[0m\u001b[0mconnect\u001b[0m\u001b[1;33m(\u001b[0m\u001b[0msa\u001b[0m\u001b[1;33m)\u001b[0m\u001b[1;33m\u001b[0m\u001b[0m\n\u001b[0m\u001b[0;32m    563\u001b[0m             \u001b[1;32mreturn\u001b[0m \u001b[0msock\u001b[0m\u001b[1;33m\u001b[0m\u001b[0m\n\u001b[0;32m    564\u001b[0m \u001b[1;33m\u001b[0m\u001b[0m\n",
      "\u001b[1;32m/usr/lib/python2.7/socket.pyc\u001b[0m in \u001b[0;36mmeth\u001b[1;34m(name, self, *args)\u001b[0m\n\u001b[0;32m    222\u001b[0m \u001b[1;33m\u001b[0m\u001b[0m\n\u001b[0;32m    223\u001b[0m \u001b[1;32mdef\u001b[0m \u001b[0mmeth\u001b[0m\u001b[1;33m(\u001b[0m\u001b[0mname\u001b[0m\u001b[1;33m,\u001b[0m\u001b[0mself\u001b[0m\u001b[1;33m,\u001b[0m\u001b[1;33m*\u001b[0m\u001b[0margs\u001b[0m\u001b[1;33m)\u001b[0m\u001b[1;33m:\u001b[0m\u001b[1;33m\u001b[0m\u001b[0m\n\u001b[1;32m--> 224\u001b[1;33m     \u001b[1;32mreturn\u001b[0m \u001b[0mgetattr\u001b[0m\u001b[1;33m(\u001b[0m\u001b[0mself\u001b[0m\u001b[1;33m.\u001b[0m\u001b[0m_sock\u001b[0m\u001b[1;33m,\u001b[0m\u001b[0mname\u001b[0m\u001b[1;33m)\u001b[0m\u001b[1;33m(\u001b[0m\u001b[1;33m*\u001b[0m\u001b[0margs\u001b[0m\u001b[1;33m)\u001b[0m\u001b[1;33m\u001b[0m\u001b[0m\n\u001b[0m\u001b[0;32m    225\u001b[0m \u001b[1;33m\u001b[0m\u001b[0m\n\u001b[0;32m    226\u001b[0m \u001b[1;32mfor\u001b[0m \u001b[0m_m\u001b[0m \u001b[1;32min\u001b[0m \u001b[0m_socketmethods\u001b[0m\u001b[1;33m:\u001b[0m\u001b[1;33m\u001b[0m\u001b[0m\n",
      "\u001b[1;31mKeyboardInterrupt\u001b[0m: "
     ]
    }
   ],
   "source": [
    "# check the camera file system\n",
    "out = get_new()\n",
    "# setup our controller\n",
    "cam = GoProHero(password=\"herpderp\")\n",
    "# put the camera in burst mode\n",
    "cam.command('mode','burst')\n",
    "# tell it to take a shoth\n",
    "cam.command('record','on')\n",
    "# wait to finish\n",
    "time.sleep(3)\n",
    "# get the new files\n",
    "out = get_new(last=out)\n",
    "for o in out:\n",
    "    print o\n",
    "    download_and_save(o)"
   ]
  },
  {
   "cell_type": "code",
   "execution_count": null,
   "metadata": {
    "collapsed": false
   },
   "outputs": [],
   "source": [
    "Image(out[0])\n"
   ]
  },
  {
   "cell_type": "markdown",
   "metadata": {
    "collapsed": true
   },
   "source": [
    "<h1 align=center>A lot of cameras work just like our GoPro</h1>\n",
    "<img src=\"/files/images/phone_interface.png\" align=center>\n",
    "<h2>\n",
    "<ul align=left>\n",
    "<li>Most newer CCTV cameras, baby monitors, etc. are IP web cameras.</li>\n",
    "<br>\n",
    "<li>Each camera acts as a little web server and streams images.</li>\n",
    "<br>\n",
    "<li>Even better, every one of us has one in our pocket!</li>\n",
    "<br>\n",
    "<li>A large variety of Android/IOS apps as cameras.</li>\n",
    "<br>\n",
    "<li>Harder to write control interface, but generally easy to stream.</li>\n",
    "</h2>\n",
    "</ul>"
   ]
  },
  {
   "cell_type": "markdown",
   "metadata": {},
   "source": [
    "<h1 align=center>A lot of cameras work just like our GoPro</h1>\n",
    "<img src=\"/files/images/web_interface.png\" align=center>\n",
    "<h2>\n",
    "<ul align=left>\n",
    "<li>Most of these apps support <a href=\"\">motion jpeg</a>.</li>\n",
    "<br>\n",
    "<li>MJPEG simply dumps a series of jpegs, i.e. only *intra* frame compression.</li>\n",
    "<br>\n",
    "<li>The trick is to find the begining and end of each file.</li>\n",
    "<br>\n",
    "<li>Ususally of very low quality to support streaming.</li>\n",
    "<br>\n",
    "<li>There are <a href=\"http://www.insecam.org/en/view/279373/\">lots of them on the web.</a></li>\n",
    "</h2>\n",
    "</ul>"
   ]
  },
  {
   "cell_type": "code",
   "execution_count": null,
   "metadata": {
    "collapsed": true
   },
   "outputs": [],
   "source": [
    "\"\"\"\n",
    "Read and display a simple MJPEG stream given a URL\n",
    "\"\"\" \n",
    "import cv2\n",
    "import urllib \n",
    "import numpy as np\n",
    "# open our url stream\n",
    "stream=urllib.urlopen('http://192.168.1.228:8080/video')\n",
    "# create a buffer of bytes\n",
    "bytes=''\n",
    "invert = False\n",
    "while True:\n",
    "    # read some bytes from the stream\n",
    "    # how much to read is a matter of taste\n",
    "    bytes+=stream.read(1024*8)\n",
    "    # \\xff\\xd8 is the start of a jpg\n",
    "    # \\xff\\xd9 is the end of a jpg\n",
    "    a = bytes.find('\\xff\\xd8')\n",
    "    b = bytes.find('\\xff\\xd9')\n",
    "    # if we find them\n",
    "    if a!=-1 and b!=-1:\n",
    "        jpg = bytes[a:b+2] # create a buffer\n",
    "        bytes= bytes[b+2:] # save the remaining bytes\n",
    "        #numpy can handle strings as image data\n",
    "        img = cv2.imdecode(np.fromstring(jpg, dtype=np.uint8),cv2.CV_LOAD_IMAGE_COLOR)\n",
    "        # Add some bling to show we can process\n",
    "        if invert:\n",
    "            img = 255-img\n",
    "        # show our image\n",
    "        cv2.imshow(\"live_and_direct\",img)\n",
    "    # MVP keyboard input\n",
    "    my_key = cv2.waitKey(1)\n",
    "    if my_key & 0xFF == ord('q'):\n",
    "        break\n",
    "    if my_key & 0xFF == ord('i'):\n",
    "        invert = not invert \n",
    "# put our toys away when done. \n",
    "stream.close()\n",
    "cv2.destroyAllWindows()\n"
   ]
  },
  {
   "cell_type": "markdown",
   "metadata": {},
   "source": [
    "<h1 align=center> Cameras, Cameras, Everywhere</h1>\n",
    "<img src=\"/files/images/youtube_live.png\" align=center>\n",
    "<h2>\n",
    "<ul align=left>\n",
    "<li>Lots of cool streaming sources, Youtube, Twtich, Ustream, etc.</li>\n",
    "<br>\n",
    "<li>Can we treat them like a camera or use our own?</li>\n",
    "<br>\n",
    "<li>Parsing the urls is kinda tough, python can help.</li>\n",
    "<br>\n",
    "<li><a href=\"http://docs.livestreamer.io/install.html\">Livestreamer</a> is a tool for parsing stream urls</li>\n",
    "<br>\n",
    "<li>Has some painful dependencies, but installed relatively easy.</li>\n",
    "</h2>\n",
    "</ul>"
   ]
  },
  {
   "cell_type": "markdown",
   "metadata": {},
   "source": [
    "<h1 align=center> Streaming vs Progressive Downloading</h1>\n",
    "<img src=\"/files/images/youtube_live.png\" align=center>\n",
    "<h2>\n",
    "<ul align=left>\n",
    "<li>Live streamer can parse and point us to a file buffer.</li>\n",
    "<br>\n",
    "<li>What's in this buffer?</li>\n",
    "<br>\n",
    "<li>Turns out is mainly a series of small mpeg files. Streaming isn't streaming, it is progressive downloading.</li>\n",
    "<br>\n",
    "<li>You get the head of a file and append clips at the end.</li>\n",
    "<br>\n",
    "<li>It acutally plays well with OpenCV!</li>\n",
    "<br>\n",
    "<li>This example is simple, in real applications we should use a threading model.</li>\n",
    "</h2>\n",
    "</ul>"
   ]
  },
  {
   "cell_type": "code",
   "execution_count": null,
   "metadata": {
    "collapsed": true
   },
   "outputs": [],
   "source": [
    "import cv2\n",
    "import numpy as np\n",
    "import time\n",
    "import livestreamer\n",
    "\n",
    "# use live streamer to figure out the stream info\n",
    "streams = livestreamer.streams(\"http://www.youtube.com/watch?v=-JcaDowz2G8&ab_channel=HopeCollegeAthletics\")\n",
    "stream = streams['best']\n",
    "# open our out file. \n",
    "fname = \"test.mpg\"\n",
    "vid_file = open(fname,\"wb\")\n",
    "# dump from the stream into an mpg file -- get a buffer going\n",
    "fd = stream.open()\n",
    "for i in range(0,1048):\n",
    "    if i%256==0:\n",
    "        print \"Buffering...\"\n",
    "    new_bytes = fd.read(1024)\n",
    "    vid_file.write(new_bytes)\n",
    "# open the video file from the begining\n",
    "print \"Done buffering.\"\n",
    "cam = cv2.VideoCapture(fname)\n",
    "while True:\n",
    "    ret, img = cam.read()                      \n",
    "    try:\n",
    "        if ret:\n",
    "            img = 255-img # invert the colors\n",
    "            cv2.imshow('live_img',img)\n",
    "    except:\n",
    "        print \"DERP\"\n",
    "        continue\n",
    "    if (0xFF & cv2.waitKey(5) == 27) or img.size == 0:\n",
    "        break\n",
    "    time.sleep(0.05)\n",
    "    # dump some more data to the stream so we don't run out. \n",
    "    new_bytes = fd.read(1024*8)\n",
    "    vid_file.write(new_bytes)\n",
    "vid_file.close()\n",
    "fd.close()\n",
    "del fd\n",
    "del vid_file\n",
    "del new_bytes"
   ]
  },
  {
   "cell_type": "markdown",
   "metadata": {},
   "source": [
    "<h1 align=center>Digital Single-Lens Reflex (DSLR) Cameras</h1>\n",
    "<img src=\"/files/images/DSLR.jpg\" align=center>\n",
    "<h2>\n",
    "<ul align=left>\n",
    "<li>Fairly common camera type with large sensors.</li>\n",
    "<br>\n",
    "<li>Lots and lots of different lenses and accessories.</li>\n",
    "<br>\n",
    "<li>Allow precise control of optics and camera parameters</li>\n",
    "<br>\n",
    "<li>Bad: images are large and interface is vendor specific.</li>\n",
    "<br>\n",
    "<li>Good: raw data and resolution give us lots of data to play with.</li>\n",
    "</h2>\n",
    "</ul>"
   ]
  },
  {
   "cell_type": "markdown",
   "metadata": {},
   "source": [
    "<h1 align=center>Digital Single-Lens Reflex (DSLR) Cameras</h1>\n",
    "<img src=\"/files/images/DSLR.jpg\" align=center>\n",
    "<h2>\n",
    "<ul align=left>\n",
    "<li><a href=\"http://www.gphoto.org/proj/gphoto2/\">GPhoto2</a> library is good for Canon brand cameras.</li>\n",
    "<br>\n",
    "<li>Interface with swig, heavy handed but it works.</li>\n",
    "<br>\n",
    "<li>Setting must match camera modes.</li>\n",
    "<br>\n",
    "<li>Use cases: HDR, Computational Photography, Science!</li>\n",
    "</h2>\n",
    "</ul>"
   ]
  },
  {
   "cell_type": "code",
   "execution_count": null,
   "metadata": {
    "collapsed": true
   },
   "outputs": [],
   "source": [
    "import logging\n",
    "import os\n",
    "import subprocess\n",
    "import sys\n",
    "import gphoto2 as gp\n",
    "import time\n",
    "\n",
    "def setup():\n",
    "    \"\"\"\n",
    "    Attempt to attach to a gphoto device and grab the camera and context. Return the results.\n",
    "    \"\"\"\n",
    "    logging.basicConfig(\n",
    "        format='%(levelname)s: %(name)s: %(message)s', level=logging.WARNING)\n",
    "    gp.check_result(gp.use_python_logging())\n",
    "    context = gp.gp_context_new()\n",
    "    camera = gp.check_result(gp.gp_camera_new())\n",
    "    gp.check_result(gp.gp_camera_init(camera, context))\n",
    "    text = gp.check_result(gp.gp_camera_get_summary(camera, context))\n",
    "    print text.text\n",
    "    return camera,context\n",
    "\n",
    "\n",
    "def recurse_config(child,params={}):\n",
    "    \"\"\"\n",
    "    The gphoto control structure is a byzantine swig structure.\n",
    "    This function traverses it recursively and puts it in a\n",
    "    nice python dictionary.\n",
    "    \"\"\"\n",
    "    if(child.count_children() <= 0):\n",
    "        my_choices = []\n",
    "        try:\n",
    "            n = child.count_choices()\n",
    "            if( n > 0 ):\n",
    "                for k in range(0,n):\n",
    "                    my_choices.append(child.get_choice(int(k)))\n",
    "        except:\n",
    "            return my_choices\n",
    "        return my_choices\n",
    "    else:\n",
    "        for i in range(0, child.count_children()):\n",
    "            chill = child.get_child(i)\n",
    "            name = chill.get_name()\n",
    "            params[name] = recurse_config(chill,{})\n",
    "        return params\n",
    "\n",
    "def print_config_dict(cdict,lvl=\"\"):\n",
    "    \"\"\"\n",
    "    Print a the python config dictionary for a camera.\n",
    "    \"\"\"\n",
    "    if isinstance(cdict,dict):\n",
    "        for k,v in cdict.items():\n",
    "            print \"{0}{1}\".format(lvl,k)\n",
    "            print_config_dict(v,lvl+\"\\t\")\n",
    "    elif isinstance(cdict,list):\n",
    "        for l in cdict:\n",
    "            print \"{0}{1}\".format(lvl,l)\n",
    "        return\n",
    "\n",
    "def set_config(camera,context,config,path,value):\n",
    "    \"\"\"\n",
    "    Given a gphoto camera, context, and config \n",
    "    traverse the path of the config tree and set\n",
    "    a parameter value. The path is basically the nodes\n",
    "    to address in the control structure. Once the config\n",
    "    object has been modified we have to set it on the camera.\n",
    "    \"\"\"\n",
    "    current = config\n",
    "    for p in path:\n",
    "        current = current.get_child_by_name(p)\n",
    "    current.acquire()\n",
    "    current.set_value(value)\n",
    "    current.disown()\n",
    "    gp.check_result(gp.gp_camera_set_config(camera,config, context))\n",
    "    print \"Set {0} to {1}\".format(current.get_name(),current.get_value())\n",
    "\n",
    "\n",
    "def capture_image(camera,context,name):\n",
    "    \"\"\"\n",
    "    Use gphoto to capture an image and retrieve it.\n",
    "    Place the file in /tmp/name\n",
    "    \"\"\"\n",
    "    file_path = gp.check_result(gp.gp_camera_capture(\n",
    "        camera, gp.GP_CAPTURE_IMAGE, context))\n",
    "    target = os.path.join('/tmp', name)\n",
    "    print 'Copying image to {0}'.format(target)\n",
    "    camera_file = gp.check_result(gp.gp_camera_file_get(\n",
    "            camera, file_path.folder, file_path.name,\n",
    "            gp.GP_FILE_TYPE_NORMAL, context))\n",
    "    gp.check_result(gp.gp_file_save(camera_file, target))\n",
    "    gp.check_result(gp.gp_camera_exit(camera, context))\n",
    "\n",
    "        \n",
    "def main():\n",
    "    # set up our camera.\n",
    "    camera,context = setup()\n",
    "    # grab a single test image. \n",
    "    capture_image(camera,context,\"crap.jpg\")\n",
    "    # Get the configuration of the camera\n",
    "    config = gp.check_result(gp.gp_camera_get_config(camera, context))\n",
    "    # Pythonify and print the configuration of the camera so\n",
    "    # we can see what parameters we can play with. \n",
    "    pconfig = recurse_config(config)\n",
    "    print_config_dict(pconfig)\n",
    "    # Put the camera in AV mode, or aperture priority. \n",
    "    # Camera needs this to fiddle with aperture. \n",
    "    set_config(camera,context,config,[\"capturesettings\",\"autoexposuremode\"],\"AV\")\n",
    "    count = 0\n",
    "    # for all of the available aperture settings...\n",
    "    for param in pconfig[\"capturesettings\"][\"aperture\"]:\n",
    "        # get the camera configuration\n",
    "        config = gp.check_result(gp.gp_camera_get_config(camera, context))\n",
    "        # set the new configuration\n",
    "        set_config(camera,context,config,[\"capturesettings\",\"aperture\"],param)\n",
    "        # and capture an image.\n",
    "        fname = \"Capture{:0>5}.jpg\".format(count)\n",
    "        capture_image(camera,context,fname)\n",
    "        count += 1\n",
    "\n",
    "if __name__ == \"__main__\":\n",
    "    sys.exit(main())\n"
   ]
  },
  {
   "cell_type": "code",
   "execution_count": null,
   "metadata": {
    "collapsed": true
   },
   "outputs": [],
   "source": []
  }
 ],
 "metadata": {
  "kernelspec": {
   "display_name": "Python 2",
   "language": "python",
   "name": "python2"
  },
  "language_info": {
   "codemirror_mode": {
    "name": "ipython",
    "version": 2
   },
   "file_extension": ".py",
   "mimetype": "text/x-python",
   "name": "python",
   "nbconvert_exporter": "python",
   "pygments_lexer": "ipython2",
   "version": "2.7.6"
  }
 },
 "nbformat": 4,
 "nbformat_minor": 0
}
