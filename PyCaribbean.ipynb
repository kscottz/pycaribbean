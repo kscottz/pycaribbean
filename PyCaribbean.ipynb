{
 "cells": [
  {
   "cell_type": "markdown",
   "metadata": {
    "collapsed": true
   },
   "source": [
    "<img src=\"./images/output-0.png\" />"
   ]
  },
  {
   "cell_type": "markdown",
   "metadata": {},
   "source": [
    "<img src=\"./images/output-1.png\" />"
   ]
  },
  {
   "cell_type": "markdown",
   "metadata": {},
   "source": [
    "<img src=\"./images/output-2.png\" />"
   ]
  },
  {
   "cell_type": "markdown",
   "metadata": {},
   "source": [
    "<img src=\"./images/output-4.png\" />"
   ]
  },
  {
   "cell_type": "markdown",
   "metadata": {},
   "source": [
    "<img src=\"./images/output-5.png\" />"
   ]
  },
  {
   "cell_type": "markdown",
   "metadata": {},
   "source": [
    "<img src=\"./images/output-6.png\" />"
   ]
  },
  {
   "cell_type": "markdown",
   "metadata": {},
   "source": [
    "<img src=\"./images/output-7.png\" />"
   ]
  },
  {
   "cell_type": "markdown",
   "metadata": {},
   "source": [
    "<img src=\"./images/output-8.png\" />"
   ]
  },
  {
   "cell_type": "markdown",
   "metadata": {},
   "source": [
    "<img src=\"./images/output-9.png\" />"
   ]
  },
  {
   "cell_type": "markdown",
   "metadata": {},
   "source": [
    "<img src=\"./images/output-10.png\" />"
   ]
  },
  {
   "cell_type": "markdown",
   "metadata": {},
   "source": [
    "<img src=\"./images/output-11.png\" />"
   ]
  },
  {
   "cell_type": "markdown",
   "metadata": {},
   "source": [
    "<img src=\"./images/output-12.png\" />"
   ]
  },
  {
   "cell_type": "markdown",
   "metadata": {},
   "source": [
    "<img src=\"./images/output-13.png\" />"
   ]
  },
  {
   "cell_type": "code",
   "execution_count": 1,
   "metadata": {
    "collapsed": true
   },
   "outputs": [],
   "source": [
    "# Example One, getting frames off a webcam.\n",
    "# basic_webcam.py\n",
    "import numpy as np\n",
    "import cv2\n",
    "\n",
    "cap = cv2.VideoCapture(0)\n",
    "\n",
    "while(True):\n",
    "    ret, frame = cap.read()\n",
    "    cv2.imshow('Basic Web Cam',frame)\n",
    "    if cv2.waitKey(1) & 0xFF == ord('q'):\n",
    "        break\n",
    "\n",
    "cap.release()\n",
    "cv2.destroyAllWindows()"
   ]
  },
  {
   "cell_type": "code",
   "execution_count": null,
   "metadata": {
    "collapsed": true
   },
   "outputs": [],
   "source": [
    "# Example two, advance camera properties. \n",
    "import numpy as np\n",
    "import cv2\n",
    "import time\n",
    "\n",
    "# create a map to keep track of all these names\n",
    "prop_map = {\n",
    "    \"pos_msec\":cv2.cv.CV_CAP_PROP_POS_MSEC,\n",
    "    \"pos_frame\":cv2.cv.CV_CAP_PROP_POS_FRAMES,\n",
    "    \"avi_ratio\":cv2.cv.CV_CAP_PROP_POS_AVI_RATIO ,\n",
    "    \"width\":cv2.cv.CV_CAP_PROP_FRAME_WIDTH ,\n",
    "    \"height\":cv2.cv.CV_CAP_PROP_FRAME_HEIGHT ,\n",
    "    \"fps\":cv2.cv.CV_CAP_PROP_FPS ,\n",
    "    \"fourcc\":cv2.cv.CV_CAP_PROP_FOURCC ,\n",
    "    \"frame_count\":cv2.cv.CV_CAP_PROP_FRAME_COUNT,\n",
    "    \"format\":cv2.cv.CV_CAP_PROP_FORMAT ,\n",
    "    \"mode\":cv2.cv.CV_CAP_PROP_MODE ,\n",
    "    \"brightness\":cv2.cv.CV_CAP_PROP_BRIGHTNESS ,\n",
    "    \"contrast\":cv2.cv.CV_CAP_PROP_CONTRAST ,\n",
    "    \"saturation\":cv2.cv.CV_CAP_PROP_SATURATION,\n",
    "    \"hue\":cv2.cv.CV_CAP_PROP_HUE ,\n",
    "    \"gain\":cv2.cv.CV_CAP_PROP_GAIN ,\n",
    "    \"exposure\":cv2.cv.CV_CAP_PROP_EXPOSURE ,\n",
    "    \"convert_rgb\":cv2.cv.CV_CAP_PROP_CONVERT_RGB ,\n",
    " #   \"white_balance\":cv2.cv.CV_CAP_PROP_WHITE_BALANCE ,\n",
    "    \"rectification\":cv2.cv.CV_CAP_PROP_RECTIFICATION}\n",
    "\n",
    "# get a camera property\n",
    "def get_prop(cam,name,prop_map):\n",
    "    return cam.get(prop_map[name])\n",
    "\n",
    "# set a camera property\n",
    "def set_prop(cam,name,prop_map,value):\n",
    "    cam.set(prop_map[name],value)\n",
    "\n",
    "# print out all of the properites\n",
    "def poll_props(cam,prop_map):\n",
    "    out_map = {}\n",
    "    for k,v in prop_map.items():\n",
    "        result = cam.get(v)\n",
    "        if( result == -1.0 ):\n",
    "            out_map[k] = None\n",
    "        else:\n",
    "            out_map[k] = result\n",
    "    return out_map\n",
    "\n",
    "# create a camera and get its property\n",
    "cam = cv2.VideoCapture(0)\n",
    "properties = poll_props(cam,prop_map)\n",
    "\n",
    "# list our properties\n",
    "for k,v in properties.items():\n",
    "    print \"{0:<12}\\t:{1:<12}\".format(k,v)\n",
    "\n",
    "while(True):\n",
    "    # toggle properties and get results. \n",
    "    sat = get_prop(cam,\"saturation\",prop_map)\n",
    "    if( sat > 0.5 ):\n",
    "        set_prop(cam,\"saturation\",prop_map,o0.1)\n",
    "    else:\n",
    "        set_prop(cam,\"saturation\",prop_map,1.0)\n",
    "    time.sleep(0.05)\n",
    "    ret, frame = cam.read()\n",
    "    cv2.imshow('Basic Web Cam',frame)\n",
    "    if cv2.waitKey(1) & 0xFF == ord('q'):\n",
    "        break\n",
    "\n",
    "# put our toys back on the shelf \n",
    "cam.release()\n",
    "cv2.destroyAllWindows()"
   ]
  }
 ],
 "metadata": {
  "kernelspec": {
   "display_name": "Python 2",
   "language": "python",
   "name": "python2"
  },
  "language_info": {
   "codemirror_mode": {
    "name": "ipython",
    "version": 2
   },
   "file_extension": ".py",
   "mimetype": "text/x-python",
   "name": "python",
   "nbconvert_exporter": "python",
   "pygments_lexer": "ipython2",
   "version": "2.7.6"
  }
 },
 "nbformat": 4,
 "nbformat_minor": 0
}
